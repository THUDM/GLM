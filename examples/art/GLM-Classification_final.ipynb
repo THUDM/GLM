{
 "cells": [
  {
   "cell_type": "code",
   "execution_count": 1,
   "id": "9bdcf10d",
   "metadata": {},
   "outputs": [
    {
     "name": "stdout",
     "output_type": "stream",
     "text": [
      "Sat Jan 14 16:24:32 2023       \n",
      "+-----------------------------------------------------------------------------+\n",
      "| NVIDIA-SMI 470.129.06   Driver Version: 470.129.06   CUDA Version: 11.5     |\n",
      "|-------------------------------+----------------------+----------------------+\n",
      "| GPU  Name        Persistence-M| Bus-Id        Disp.A | Volatile Uncorr. ECC |\n",
      "| Fan  Temp  Perf  Pwr:Usage/Cap|         Memory-Usage | GPU-Util  Compute M. |\n",
      "|                               |                      |               MIG M. |\n",
      "|===============================+======================+======================|\n",
      "|   0  Tesla V100-SXM2...  Off  | 00000000:65:01.0 Off |                    0 |\n",
      "| N/A   36C    P0    37W / 300W |      0MiB / 32510MiB |      0%      Default |\n",
      "|                               |                      |                  N/A |\n",
      "+-------------------------------+----------------------+----------------------+\n",
      "                                                                               \n",
      "+-----------------------------------------------------------------------------+\n",
      "| Processes:                                                                  |\n",
      "|  GPU   GI   CI        PID   Type   Process name                  GPU Memory |\n",
      "|        ID   ID                                                   Usage      |\n",
      "|=============================================================================|\n",
      "|  No running processes found                                                 |\n",
      "+-----------------------------------------------------------------------------+\n"
     ]
    }
   ],
   "source": [
    "!nvidia-smi"
   ]
  },
  {
   "cell_type": "code",
   "execution_count": 15,
   "id": "f252f5e7",
   "metadata": {
    "pycharm": {
     "is_executing": true
    }
   },
   "outputs": [],
   "source": [
    "import torch\n",
    "import torch.nn.functional as F\n",
    "from torch.utils.data import Dataset, DataLoader\n",
    "from scipy.linalg import block_diag\n",
    "from typing import List\n",
    "from tqdm.notebook import tqdm\n",
    "import numpy as np\n",
    "from datasets import load_dataset\n",
    "from promptsource.templates import DatasetTemplates\n",
    "from transformers import AutoTokenizer, AutoModelForSeq2SeqLM, AutoConfig, get_linear_schedule_with_warmup\n",
    "from sklearn.metrics import accuracy_score\n",
    "import matplotlib.pyplot as plt\n",
    "import logging\n",
    "import sys\n",
    "import warnings\n",
    "warnings.filterwarnings(\"ignore\")"
   ]
  },
  {
   "cell_type": "code",
   "execution_count": 4,
   "id": "0eee992e",
   "metadata": {},
   "outputs": [],
   "source": [
    "# For the classification task, in a Seq2Seq model like GLM, we need to calculate the conditional probability of choices for the given context.\n",
    "# Remember to refer to code example (https://github.com/THUDM/GLM#classification) in GLM's repo.\n",
    "\n",
    "# The `cond_log_prob` could be used for both multiple-choice problem (i.e., classification) or text generation (i.e., summurization).\n",
    "def cond_log_prob_single_sample(context, choices):\n",
    "    \"\"\"\n",
    "    Compute conditonal probability for one or more continuation/infilling options, single-sample only.\n",
    "    General solution to all classification/multiple-choice tasks.\n",
    "    :param context: prompted inputs. For example, \"One plus one equals two, is it correct? Answer: [MASK]\"\n",
    "    :param choices: classification labels or choices. For example, [\"No\", \"Yes\"]\n",
    "    \"\"\"\n",
    "    context_id = tokenizer(context)['input_ids']\n",
    "    probs = []\n",
    "    for choice in choices:\n",
    "        choice_id = tokenizer(' ' + choice)['input_ids'][1:-1]  # Feature of SentencePiece tokenizer\n",
    "        input_ids = torch.tensor(context_id + [tokenizer.sop_token_id] + choice_id[:-1], dtype=torch.long)\n",
    "        attention_mask = torch.tril(torch.ones(len(input_ids), len(input_ids), dtype=torch.long))\n",
    "        attention_mask[:len(context_id), :len(context_id)] = 1\n",
    "        mask_position = context_id.index(tokenizer.mask_token_id)\n",
    "        position_id = torch.cat([torch.arange(len(context_id)), torch.ones(len(choice_id)) * mask_position])\n",
    "        block_position_id = torch.cat([torch.zeros(len(context_id)), torch.arange(1, 1 + len(choice_id))])\n",
    "        position_id = torch.stack((position_id, block_position_id), dim=0).long()\n",
    "        logits = model.forward(input_ids=input_ids.view(1, -1).cuda(),\n",
    "                            attention_mask=attention_mask.unsqueeze(0).unsqueeze(0).cuda(),\n",
    "                            position_ids=position_id.view(1, 2, -1).cuda())['logits']\n",
    "        logits = F.log_softmax(logits, dim=-1)\n",
    "        probs.append(logits[0, range(len(context_id), len(context_id) + len(choice_id)), choice_id].sum())\n",
    "    return torch.stack(probs)\n",
    "\n",
    "# print(\"Single sample:\", cond_log_prob_single_sample(\"One plus one equals two, is it correct? Answer: [MASK]\", [\"No\", \"Yes\"]))\n",
    "\n",
    "\n",
    "# Forward results by single sample is slow. The following codes organize a batch of inputs to speed up training.\n",
    "def build_multiple_choice_sample(context, choices):\n",
    "    context_id = tokenizer(context)['input_ids']\n",
    "\n",
    "    division = len(context_id)\n",
    "    mask_position = context_id.index(tokenizer.mask_token_id)\n",
    "\n",
    "    token = np.array(context_id, dtype=np.int64)\n",
    "    attention_mask = [np.ones((division, division), dtype=np.int64)]\n",
    "    position_id = np.arange(division, dtype=np.int64)\n",
    "    block_position_id = np.zeros(division, dtype=np.int64)\n",
    "\n",
    "    choice_target_id = []\n",
    "    choice_id = []\n",
    "\n",
    "    for choice_str in choices:\n",
    "        choice = np.array(tokenizer(choice_str)['input_ids'][1:-1], dtype=np.int64)\n",
    "\n",
    "        choice_id.append(choice)\n",
    "        choice_target_id.append(np.arange(len(token), len(token) + len(choice), dtype=np.int64))\n",
    "        attention_mask.append(np.tril(np.ones((len(choice), len(choice)), dtype=np.int64)))\n",
    "\n",
    "        token = np.concatenate((token, [tokenizer.sop_token_id], choice[:-1]))\n",
    "        position_id = np.concatenate((position_id, [mask_position] * len(choice)))\n",
    "        block_position_id = np.concatenate((block_position_id, np.arange(1, 1 + len(choice), dtype=np.int64)))\n",
    "\n",
    "    attention_mask = block_diag(*attention_mask)\n",
    "    attention_mask[division:, :division] = 1\n",
    "\n",
    "    return {\n",
    "        \"token\": token,\n",
    "        \"position_id\": np.stack((position_id, block_position_id)),\n",
    "        \"attention_mask\": attention_mask,\n",
    "        \"choices\": choice_id,\n",
    "        \"choice_target_ids\": choice_target_id\n",
    "    }\n",
    "\n",
    "\n",
    "def pad_batch(tokens, position_ids, attention_mask, max_seq_length):\n",
    "    pad_length = max_seq_length - len(tokens)\n",
    "    attention_mask = np.pad(\n",
    "        attention_mask,\n",
    "        pad_width=((0, pad_length),),\n",
    "        mode=\"constant\",\n",
    "        constant_values=0,\n",
    "    )\n",
    "    tokens = np.concatenate((tokens, np.zeros(pad_length, dtype=np.int64)))\n",
    "    position_ids = np.concatenate((position_ids, position_ids[..., -1:].repeat(pad_length, -1)), axis=-1)\n",
    "    return tokens, position_ids, attention_mask\n",
    "\n",
    "\n",
    "def collate_fn(samples):\n",
    "    TILE = 16\n",
    "    length_to_pad = (max(map(lambda spl: len(spl[\"token\"]), samples)) + TILE - 1) // TILE * TILE\n",
    "\n",
    "    token_batch, position_id_batch, attention_mask_batch = [], [], []\n",
    "    choices_batch, choice_target_ids_batch = [], []\n",
    "\n",
    "    for sample in samples:\n",
    "        token, position_id, attention_mask = pad_batch(\n",
    "            sample[\"token\"], sample[\"position_id\"], sample[\"attention_mask\"], length_to_pad\n",
    "        )\n",
    "        token_batch.append(token)\n",
    "        position_id_batch.append(position_id)\n",
    "        attention_mask_batch.append(attention_mask)\n",
    "        choices_batch.append(sample[\"choices\"])\n",
    "        choice_target_ids_batch.append(sample[\"choice_target_ids\"])\n",
    "\n",
    "    return {\n",
    "        \"tokens\": torch.tensor(np.array(token_batch), dtype=torch.int64),\n",
    "        \"position_ids\": torch.tensor(np.array(position_id_batch), dtype=torch.int64),\n",
    "        \"attention_mask\": torch.tensor(np.array(attention_mask_batch), dtype=torch.int64),\n",
    "        \"choices\": choices_batch,\n",
    "        \"choice_target_ids\": choice_target_ids_batch,\n",
    "    }\n",
    "\n",
    "def cond_log_prob(context: List[str], choices: List[List[str]]) -> List[List[float]]:\n",
    "    \"\"\"\n",
    "    Compute conditonal probability for one or more continuation/infilling options.\n",
    "    :return The log probablity of each option.\n",
    "    \"\"\"\n",
    "    if not isinstance(context, list):\n",
    "        context = [context]\n",
    "        choices = [choices]\n",
    "    choices = [[(' ' + choice) for choice in choice_pair] for choice_pair in choices]  # Feature of SentencePiece tokenizer\n",
    "\n",
    "    samples = [build_multiple_choice_sample(ctx, ch) for ctx, ch in zip(context, choices)]\n",
    "\n",
    "    batch = collate_fn(samples)\n",
    "\n",
    "    logits = model.forward(input_ids=batch['tokens'].cuda(),\n",
    "                        attention_mask=batch['attention_mask'].cuda().unsqueeze(1),\n",
    "                        position_ids=batch['position_ids'].cuda())['logits']\n",
    "\n",
    "    log_probs = []\n",
    "\n",
    "    for output, choices, choice_target_ids in zip(F.log_softmax(logits, dim=-1), batch['choices'], batch['choice_target_ids']):\n",
    "        log_probs_single = []\n",
    "        for choice, choice_target_id in zip(choices, choice_target_ids):\n",
    "            tmp = output[choice_target_id, choice]\n",
    "            log_probs_single.append(tmp.sum())\n",
    "        log_probs.append(torch.stack(log_probs_single))\n",
    "\n",
    "    return torch.stack(log_probs)"
   ]
  },
  {
   "cell_type": "code",
   "execution_count": 5,
   "id": "abacd39a",
   "metadata": {},
   "outputs": [],
   "source": [
    "# Load `glm-roberta-large` model and tokenizer\n",
    "\n",
    "model_type = \"BAAI/glm-roberta-large\"\n",
    "tokenizer = AutoTokenizer.from_pretrained(model_type, trust_remote_code=True, revision='main')\n",
    "model = AutoModelForSeq2SeqLM.from_pretrained(model_type, trust_remote_code=True, revision='main').cuda()"
   ]
  },
  {
   "cell_type": "code",
   "execution_count": 6,
   "id": "69f29f75",
   "metadata": {},
   "outputs": [
    {
     "name": "stderr",
     "output_type": "stream",
     "text": [
      "Found cached dataset art (/home/lk/.cache/huggingface/datasets/art/anli/0.1.0/e4b20acfcea873d587a87e817a63c02ce080bce28cd4c322dbd476fd07286b49)\n"
     ]
    },
    {
     "name": "stdout",
     "output_type": "stream",
     "text": [
      "Prompt names: ['choose_hypothesis_options', 'choose_hypothesis_believable', 'choose_hypothesis', 'choose_hypothesis_desc', 'choose_hypothesis_likely']\n",
      "Choices: [\"{{hypothesis_1| trim('.?!') }}\", \"{{hypothesis_2| trim('.?!') }}\"]\n"
     ]
    }
   ],
   "source": [
    "# Loading validation split of 'art' dataset using prompt from promptsource\n",
    "\n",
    "dataset = load_dataset(\"art\", split=\"validation\")\n",
    "art_prompt = DatasetTemplates('art')\n",
    "prompt = art_prompt[\"choose_hypothesis_desc\"]\n",
    "print(\"Prompt names:\", [prompt.get_name() for prompt in art_prompt.templates.values()])\n",
    "choices = prompt.answer_choices.split(' ||| ')\n",
    "print(\"Choices:\", choices)"
   ]
  },
  {
   "cell_type": "code",
   "execution_count": 7,
   "id": "1b496c0f",
   "metadata": {},
   "outputs": [
    {
     "data": {
      "application/vnd.jupyter.widget-view+json": {
       "model_id": "6f9124aaea7a460b8a66f1f63d9668f3",
       "version_major": 2,
       "version_minor": 0
      },
      "text/plain": [
       "  0%|          | 0/1532 [00:00<?, ?it/s]"
      ]
     },
     "metadata": {},
     "output_type": "display_data"
    },
    {
     "name": "stdout",
     "output_type": "stream",
     "text": [
      "0.5039164490861618\n"
     ]
    }
   ],
   "source": [
    "# Evaluation before fine tuning\n",
    "\n",
    "correct = 0\n",
    "for sample in tqdm(dataset):\n",
    "    result = prompt.apply(sample)\n",
    "    context = result[0] + \"Answer: [MASK]\"\n",
    "    probs = cond_log_prob(context, choices)\n",
    "    pred = torch.argmax(probs).item()+1\n",
    "    correct += pred == sample['label']\n",
    "\n",
    "print(correct / len(dataset))"
   ]
  },
  {
   "cell_type": "code",
   "execution_count": 8,
   "id": "88565e50",
   "metadata": {},
   "outputs": [],
   "source": [
    "# Defining Dataset Loader class\n",
    "\n",
    "class MultipleChoiceDataset(torch.utils.data.Dataset):\n",
    "    def __init__(self, dataset_name, split, prompt_name, tokenizer):\n",
    "        super(MultipleChoiceDataset, self).__init__()\n",
    "        self.dataset_name = dataset_name\n",
    "        self.split = split\n",
    "        self.prompt = DatasetTemplates(self.dataset_name)[prompt_name]\n",
    "        self.tokenizer = tokenizer\n",
    "\n",
    "        # Ensure that the dataset split is valid.\n",
    "        self.data = []\n",
    "        if '/' in dataset_name:\n",
    "            iters = load_dataset(dataset_name.split('/')[0], dataset_name.split('/')[1], split=split)\n",
    "        else:\n",
    "            iters = load_dataset(dataset_name, split=split)\n",
    "        for sample in tqdm(iters):\n",
    "            self.data.append(dict(zip(\n",
    "                ['inputs_pretokenized', 'choices_pretokenized', 'label'],\n",
    "                self.prompting_single_sample(sample)\n",
    "            )))\n",
    "\n",
    "    def get_choices(self, sample):\n",
    "        \"\"\"\n",
    "        Default solution for text classification.\n",
    "        TODO: not applicable to multiple-choice problem. Please customize choices from `sample`.\n",
    "        \"\"\"\n",
    "        return self.prompt.answer_choices.split(' ||| ')\n",
    "\n",
    "    def prompting_single_sample(self, sample):\n",
    "        \"\"\"\n",
    "        Format a sample into a prompted sample.\n",
    "        :return inputs_pretokenized, choices_pretokenized\n",
    "        \"\"\"\n",
    "        inputs_pretokenized, groundtruth_choice = tuple(self.prompt.apply(sample))\n",
    "        choices_pretokenized = self.get_choices(sample)\n",
    "\n",
    "        # TODO: Use default label. Please customize according to your dataset.\n",
    "        label = sample['label']\n",
    "        return inputs_pretokenized + ' [MASK]', choices_pretokenized, label\n",
    "\n",
    "    def __len__(self):\n",
    "        return len(self.data)\n",
    "\n",
    "    def __getitem__(self, index):\n",
    "        return self.data[index]"
   ]
  },
  {
   "cell_type": "code",
   "execution_count": 13,
   "id": "835288d5",
   "metadata": {},
   "outputs": [],
   "source": [
    "# Defining Model Trainer Class\n",
    "\n",
    "def init_logger():\n",
    "    logger = logging.getLogger(\"default\")\n",
    "    cmd_handler = logging.StreamHandler(sys.stdout)\n",
    "    cmd_handler.setLevel(logging.DEBUG)\n",
    "    cmd_handler.setFormatter(logging.Formatter(r\"[%(asctime)s][%(levelname)s][%(filename)s:%(lineno)s] %(message)s\"))\n",
    "    logger.addHandler(cmd_handler)\n",
    "    logger.setLevel(logging.INFO)\n",
    "    return logger\n",
    "\n",
    "def flatten_labels(compacted_labels):\n",
    "    batch_size = len(compacted_labels[0])\n",
    "    num_of_classes = len(compacted_labels)\n",
    "    return [[compacted_labels[i][idx] for i in range(num_of_classes)] for idx in range(batch_size)]\n",
    "\n",
    "\n",
    "# An example trainer for multiple-choice classification.\n",
    "class MultipleChoiceTrainer:\n",
    "    def __init__(self, dataset_name: str, prompt_name: str):\n",
    "        self.train_bsz, self.eval_bsz = 8, 8\n",
    "        self.epoch = 2\n",
    "        self.lr = 1e-5\n",
    "        # Load tokenizer & logger\n",
    "        self.tokenizer = tokenizer  # use tokenizer from 3rd cell\n",
    "        self.logger = init_logger()\n",
    "\n",
    "        # Load dataset\n",
    "        self.train_dataset = MultipleChoiceDataset(dataset_name, 'train', prompt_name, self.tokenizer)\n",
    "        self.valid_dataset = MultipleChoiceDataset(dataset_name, 'validation', prompt_name, self.tokenizer)\n",
    "#         self.test_dataset = MultipleChoiceDataset(dataset_name, 'test', prompt_name, self.tokenizer)\n",
    "\n",
    "        self.train_loader = DataLoader(self.train_dataset, batch_size=self.train_bsz, shuffle=True, drop_last=True)\n",
    "        self.valid_loader = DataLoader(self.valid_dataset, batch_size=self.eval_bsz, shuffle=False)\n",
    "#         self.test_loader = DataLoader(self.test_dataset, batch_size=self.eval_bsz, shuffle=False)\n",
    "\n",
    "        # Configure training model, optimizer, and scheduler\n",
    "        self.model = model.float()  # use model from 3rd cell\n",
    "        self.model.train()\n",
    "        num_training_steps = self.epoch * (len(self.train_dataset) // self.train_bsz)\n",
    "        self.optimizer = torch.optim.AdamW(self.model.parameters(), lr=self.lr)\n",
    "        self.scheduler = get_linear_schedule_with_warmup(self.optimizer,\n",
    "                                                         num_warmup_steps=int(num_training_steps * 0.06),\n",
    "                                                         num_training_steps=num_training_steps)\n",
    "\n",
    "    def evaluate(self, e):\n",
    "        valid_loss = 0.0\n",
    "        valid_labels = []\n",
    "        valid_preds = []\n",
    "        model.eval()\n",
    "        with torch.no_grad():\n",
    "            for i, sample in tqdm(enumerate(self.valid_loader, start=1), desc=\"valid\", total=len(self.valid_loader)):\n",
    "                logits = cond_log_prob(sample[\"inputs_pretokenized\"], flatten_labels(sample['choices_pretokenized']))\n",
    "                labels = sample[\"label\"] - 1 \n",
    "                labels = labels.cuda()\n",
    "                loss = F.nll_loss(logits, labels)\n",
    "                valid_loss += loss.item()\n",
    "                valid_preds.extend(torch.argmax(logits, dim=-1).cpu().numpy().tolist())\n",
    "                valid_labels.extend(np.array(labels.cpu()).tolist())\n",
    "        valid_loss = valid_loss / len(self.valid_loader)\n",
    "        valid_acc = accuracy_score(valid_preds, valid_labels)\n",
    "        self.logger.info(f\"[VALID] epoch {e}: loss={valid_loss}, acc={valid_acc}\")\n",
    "\n",
    "    def train(self):\n",
    "        losses = []\n",
    "        l_rates = []\n",
    "        accuracies = []\n",
    "        for e in range(1, self.epoch + 1):\n",
    "            self.logger.info(f\"Epoch {e}\")\n",
    "            # train\n",
    "            tqdm_vars = {\"lr\": np.nan, \"loss\": np.nan, 'accuracy':np.nan}\n",
    "            tbar = tqdm(enumerate(self.train_loader, start=1), desc=\"train\", total=len(self.train_loader),\n",
    "                        postfix=tqdm_vars)\n",
    "            valid_labels = []\n",
    "            valid_preds = []\n",
    "            train_loss_value = 0.0\n",
    "            model.train()\n",
    "            for i, sample in tbar:\n",
    "                logits = cond_log_prob(sample[\"inputs_pretokenized\"], flatten_labels(sample['choices_pretokenized']))\n",
    "                labels = sample[\"label\"] - 1 \n",
    "                labels = labels.cuda()\n",
    "                loss = F.nll_loss(logits, labels)\n",
    "                train_loss_value += loss.item()\n",
    "                \n",
    "                valid_preds.extend(torch.argmax(logits, dim=-1).cpu().numpy().tolist())\n",
    "                valid_labels.extend(np.array(labels.cpu()).tolist())\n",
    "                \n",
    "                loss.backward()\n",
    "                self.optimizer.step()\n",
    "                self.scheduler.step()\n",
    "                self.optimizer.zero_grad()\n",
    "                \n",
    "                tqdm_vars[\"lr\"] = self.optimizer.state_dict()[\"param_groups\"][0][\"lr\"]\n",
    "                tqdm_vars[\"loss\"] = train_loss_value\n",
    "                acc = accuracy_score(valid_preds, valid_labels)\n",
    "                tqdm_vars['accuracy'] = acc\n",
    "                tbar.set_postfix(tqdm_vars)\n",
    "                losses.append(train_loss_value)\n",
    "                l_rates.append(self.optimizer.state_dict()[\"param_groups\"][0][\"lr\"])\n",
    "                accuracies.append(acc)\n",
    "                train_loss_value = 0.0\n",
    "            self.evaluate(e)\n",
    "        return [losses, l_rates, accuracies]"
   ]
  },
  {
   "cell_type": "code",
   "execution_count": 14,
   "id": "21572d71",
   "metadata": {},
   "outputs": [
    {
     "name": "stderr",
     "output_type": "stream",
     "text": [
      "Found cached dataset art (/home/lk/.cache/huggingface/datasets/art/anli/0.1.0/e4b20acfcea873d587a87e817a63c02ce080bce28cd4c322dbd476fd07286b49)\n"
     ]
    },
    {
     "data": {
      "application/vnd.jupyter.widget-view+json": {
       "model_id": "6a91452b415b40f49ed240744e0d83fd",
       "version_major": 2,
       "version_minor": 0
      },
      "text/plain": [
       "  0%|          | 0/169654 [00:00<?, ?it/s]"
      ]
     },
     "metadata": {},
     "output_type": "display_data"
    },
    {
     "name": "stderr",
     "output_type": "stream",
     "text": [
      "Found cached dataset art (/home/lk/.cache/huggingface/datasets/art/anli/0.1.0/e4b20acfcea873d587a87e817a63c02ce080bce28cd4c322dbd476fd07286b49)\n"
     ]
    },
    {
     "data": {
      "application/vnd.jupyter.widget-view+json": {
       "model_id": "8f2ec2b2ec3248ffa9a48e8ac973ffa5",
       "version_major": 2,
       "version_minor": 0
      },
      "text/plain": [
       "  0%|          | 0/1532 [00:00<?, ?it/s]"
      ]
     },
     "metadata": {},
     "output_type": "display_data"
    }
   ],
   "source": [
    "# Initializing trainer with train and validation splits of the 'art' dataset\n",
    "\n",
    "trainer = MultipleChoiceTrainer(dataset_name=\"art\", prompt_name=\"choose_hypothesis_desc\")"
   ]
  },
  {
   "cell_type": "code",
   "execution_count": 16,
   "id": "53d497cc",
   "metadata": {},
   "outputs": [
    {
     "name": "stdout",
     "output_type": "stream",
     "text": [
      "[2023-01-14 16:54:31,249][INFO][1043818326.py:69] Epoch 1\n",
      "[2023-01-14 16:54:31,249][INFO][1043818326.py:69] Epoch 1\n",
      "[2023-01-14 16:54:31,249][INFO][1043818326.py:69] Epoch 1\n"
     ]
    },
    {
     "data": {
      "application/vnd.jupyter.widget-view+json": {
       "model_id": "05cb3831162e45d78f0c891866512e07",
       "version_major": 2,
       "version_minor": 0
      },
      "text/plain": [
       "train:   0%|          | 0/21206 [00:00<?, ?it/s, accuracy=nan, loss=nan, lr=nan]"
      ]
     },
     "metadata": {},
     "output_type": "display_data"
    },
    {
     "data": {
      "application/vnd.jupyter.widget-view+json": {
       "model_id": "036c2f1d593945d9b894e93528ccb9f3",
       "version_major": 2,
       "version_minor": 0
      },
      "text/plain": [
       "valid:   0%|          | 0/192 [00:00<?, ?it/s]"
      ]
     },
     "metadata": {},
     "output_type": "display_data"
    },
    {
     "name": "stdout",
     "output_type": "stream",
     "text": [
      "[2023-01-14 18:38:04,770][INFO][1043818326.py:62] [VALID] epoch 1: loss=0.81444619782269, acc=0.6977806788511749\n",
      "[2023-01-14 18:38:04,770][INFO][1043818326.py:62] [VALID] epoch 1: loss=0.81444619782269, acc=0.6977806788511749\n",
      "[2023-01-14 18:38:04,770][INFO][1043818326.py:62] [VALID] epoch 1: loss=0.81444619782269, acc=0.6977806788511749\n",
      "[2023-01-14 18:38:04,771][INFO][1043818326.py:69] Epoch 2\n",
      "[2023-01-14 18:38:04,771][INFO][1043818326.py:69] Epoch 2\n",
      "[2023-01-14 18:38:04,771][INFO][1043818326.py:69] Epoch 2\n"
     ]
    },
    {
     "data": {
      "application/vnd.jupyter.widget-view+json": {
       "model_id": "67bae1376d0f48448ff59ab1371fe350",
       "version_major": 2,
       "version_minor": 0
      },
      "text/plain": [
       "train:   0%|          | 0/21206 [00:00<?, ?it/s, accuracy=nan, loss=nan, lr=nan]"
      ]
     },
     "metadata": {},
     "output_type": "display_data"
    },
    {
     "data": {
      "application/vnd.jupyter.widget-view+json": {
       "model_id": "042358e1d6074e6dacfe6d80c2508960",
       "version_major": 2,
       "version_minor": 0
      },
      "text/plain": [
       "valid:   0%|          | 0/192 [00:00<?, ?it/s]"
      ]
     },
     "metadata": {},
     "output_type": "display_data"
    },
    {
     "name": "stdout",
     "output_type": "stream",
     "text": [
      "[2023-01-14 20:21:49,399][INFO][1043818326.py:62] [VALID] epoch 2: loss=0.873860743585586, acc=0.7317232375979112\n",
      "[2023-01-14 20:21:49,399][INFO][1043818326.py:62] [VALID] epoch 2: loss=0.873860743585586, acc=0.7317232375979112\n",
      "[2023-01-14 20:21:49,399][INFO][1043818326.py:62] [VALID] epoch 2: loss=0.873860743585586, acc=0.7317232375979112\n"
     ]
    }
   ],
   "source": [
    "results = trainer.train()"
   ]
  },
  {
   "cell_type": "code",
   "execution_count": 28,
   "id": "968093c0",
   "metadata": {},
   "outputs": [
    {
     "data": {
      "text/plain": [
       "277"
      ]
     },
     "execution_count": 28,
     "metadata": {},
     "output_type": "execute_result"
    }
   ],
   "source": [
    "len(result[0])"
   ]
  },
  {
   "cell_type": "code",
   "execution_count": 30,
   "id": "1d1b80c3",
   "metadata": {},
   "outputs": [
    {
     "data": {
      "image/png": "[encoded data removed]",
      "text/plain": [
       "<Figure size 640x480 with 1 Axes>"
      ]
     },
     "metadata": {},
     "output_type": "display_data"
    }
   ],
   "source": [
    "# Plotting Training accuracy and loss with varying learning rates and reduced number of steps\n",
    "\n",
    "los = results[0]\n",
    "los = [los[i] for i in range(0, len(los), 100)]\n",
    "acc = results[2]\n",
    "acc = [acc[i] for i in range(0, len(acc), 100)]\n",
    "plt.ylim(0, 1)\n",
    "plt.plot(list(range(len(los))), los) \n",
    "plt.plot(list(range(len(acc))), acc)\n",
    "plt.title('Training Loss and Accuracy')\n",
    "plt.ylabel('Value')\n",
    "plt.xlabel('Steps (Reduced)')\n",
    "plt.legend(['Loss', 'Accuracy'], loc='upper right')\n",
    "plt.show()"
   ]
  },
  {
   "cell_type": "code",
   "execution_count": 25,
   "id": "f24981c7",
   "metadata": {},
   "outputs": [
    {
     "data": {
      "application/vnd.jupyter.widget-view+json": {
       "model_id": "a41d9041d2f642e397c81eba15639029",
       "version_major": 2,
       "version_minor": 0
      },
      "text/plain": [
       "  0%|          | 0/1532 [00:00<?, ?it/s]"
      ]
     },
     "metadata": {},
     "output_type": "display_data"
    },
    {
     "name": "stdout",
     "output_type": "stream",
     "text": [
      "0.7336814621409922\n"
     ]
    }
   ],
   "source": [
    "# Evaluation after fine tuning\n",
    "\n",
    "correct = 0\n",
    "for sample in tqdm(dataset):\n",
    "    result = prompt.apply(sample)\n",
    "    context = result[0] + \"Answer: [MASK]\"\n",
    "    probs = cond_log_prob(context, choices)\n",
    "    pred = torch.argmax(probs).item()+1\n",
    "    correct += pred == sample['label']\n",
    "\n",
    "print(correct / len(dataset))"
   ]
  }
 ],
 "metadata": {
  "kernelspec": {
   "display_name": "Python 3 (ipykernel)",
   "language": "python",
   "name": "python3"
  },
  "language_info": {
   "codemirror_mode": {
    "name": "ipython",
    "version": 3
   },
   "file_extension": ".py",
   "mimetype": "text/x-python",
   "name": "python",
   "nbconvert_exporter": "python",
   "pygments_lexer": "ipython3",
   "version": "3.9.13"
  },
  "vscode": {
   "interpreter": {
    "hash": "2017a8f9fcbfbe2cf326cc1feda5e5c27c74818010a1a4e8c49722cac2b3fed0"
   }
  }
 },
 "nbformat": 4,
 "nbformat_minor": 5
}
